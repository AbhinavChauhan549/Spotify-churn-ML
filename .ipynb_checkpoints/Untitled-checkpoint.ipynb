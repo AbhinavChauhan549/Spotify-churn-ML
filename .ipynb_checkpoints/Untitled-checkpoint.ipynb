{
 "cells": [
  {
   "cell_type": "code",
   "execution_count": 2,
   "id": "bf9e5825-d597-4ef5-8f72-9d97e3f5a353",
   "metadata": {},
   "outputs": [],
   "source": [
    "import numpy as np \n",
    "import pandas as pd \n",
    "import matplotlib.pyplot as plt \n",
    "import seaborn as sns \n",
    "from sklearn.model_selection import train_test_split \n",
    "import warnings \n",
    "warnings.filterwarnings('ignore')"
   ]
  },
  {
   "cell_type": "code",
   "execution_count": 3,
   "id": "771de4c2-071c-497c-94a0-a062a8b148bc",
   "metadata": {},
   "outputs": [],
   "source": [
    "df = pd.read_csv('spotify_churn_dataset.csv')"
   ]
  },
  {
   "cell_type": "code",
   "execution_count": 6,
   "id": "34cb3818-febe-48c9-a85b-92873a57b589",
   "metadata": {},
   "outputs": [
    {
     "data": {
      "text/html": [
       "<div>\n",
       "<style scoped>\n",
       "    .dataframe tbody tr th:only-of-type {\n",
       "        vertical-align: middle;\n",
       "    }\n",
       "\n",
       "    .dataframe tbody tr th {\n",
       "        vertical-align: top;\n",
       "    }\n",
       "\n",
       "    .dataframe thead th {\n",
       "        text-align: right;\n",
       "    }\n",
       "</style>\n",
       "<table border=\"1\" class=\"dataframe\">\n",
       "  <thead>\n",
       "    <tr style=\"text-align: right;\">\n",
       "      <th></th>\n",
       "      <th>user_id</th>\n",
       "      <th>gender</th>\n",
       "      <th>age</th>\n",
       "      <th>country</th>\n",
       "      <th>subscription_type</th>\n",
       "      <th>listening_time</th>\n",
       "      <th>songs_played_per_day</th>\n",
       "      <th>skip_rate</th>\n",
       "      <th>device_type</th>\n",
       "      <th>ads_listened_per_week</th>\n",
       "      <th>offline_listening</th>\n",
       "      <th>is_churned</th>\n",
       "    </tr>\n",
       "  </thead>\n",
       "  <tbody>\n",
       "    <tr>\n",
       "      <th>0</th>\n",
       "      <td>1</td>\n",
       "      <td>Female</td>\n",
       "      <td>54</td>\n",
       "      <td>CA</td>\n",
       "      <td>Free</td>\n",
       "      <td>26</td>\n",
       "      <td>23</td>\n",
       "      <td>0.20</td>\n",
       "      <td>Desktop</td>\n",
       "      <td>31</td>\n",
       "      <td>0</td>\n",
       "      <td>1</td>\n",
       "    </tr>\n",
       "    <tr>\n",
       "      <th>1</th>\n",
       "      <td>2</td>\n",
       "      <td>Other</td>\n",
       "      <td>33</td>\n",
       "      <td>DE</td>\n",
       "      <td>Family</td>\n",
       "      <td>141</td>\n",
       "      <td>62</td>\n",
       "      <td>0.34</td>\n",
       "      <td>Web</td>\n",
       "      <td>0</td>\n",
       "      <td>1</td>\n",
       "      <td>0</td>\n",
       "    </tr>\n",
       "    <tr>\n",
       "      <th>2</th>\n",
       "      <td>3</td>\n",
       "      <td>Male</td>\n",
       "      <td>38</td>\n",
       "      <td>AU</td>\n",
       "      <td>Premium</td>\n",
       "      <td>199</td>\n",
       "      <td>38</td>\n",
       "      <td>0.04</td>\n",
       "      <td>Mobile</td>\n",
       "      <td>0</td>\n",
       "      <td>1</td>\n",
       "      <td>1</td>\n",
       "    </tr>\n",
       "    <tr>\n",
       "      <th>3</th>\n",
       "      <td>4</td>\n",
       "      <td>Female</td>\n",
       "      <td>22</td>\n",
       "      <td>CA</td>\n",
       "      <td>Student</td>\n",
       "      <td>36</td>\n",
       "      <td>2</td>\n",
       "      <td>0.31</td>\n",
       "      <td>Mobile</td>\n",
       "      <td>0</td>\n",
       "      <td>1</td>\n",
       "      <td>0</td>\n",
       "    </tr>\n",
       "    <tr>\n",
       "      <th>4</th>\n",
       "      <td>5</td>\n",
       "      <td>Other</td>\n",
       "      <td>29</td>\n",
       "      <td>US</td>\n",
       "      <td>Family</td>\n",
       "      <td>250</td>\n",
       "      <td>57</td>\n",
       "      <td>0.36</td>\n",
       "      <td>Mobile</td>\n",
       "      <td>0</td>\n",
       "      <td>1</td>\n",
       "      <td>1</td>\n",
       "    </tr>\n",
       "    <tr>\n",
       "      <th>...</th>\n",
       "      <td>...</td>\n",
       "      <td>...</td>\n",
       "      <td>...</td>\n",
       "      <td>...</td>\n",
       "      <td>...</td>\n",
       "      <td>...</td>\n",
       "      <td>...</td>\n",
       "      <td>...</td>\n",
       "      <td>...</td>\n",
       "      <td>...</td>\n",
       "      <td>...</td>\n",
       "      <td>...</td>\n",
       "    </tr>\n",
       "    <tr>\n",
       "      <th>7995</th>\n",
       "      <td>7996</td>\n",
       "      <td>Other</td>\n",
       "      <td>44</td>\n",
       "      <td>DE</td>\n",
       "      <td>Student</td>\n",
       "      <td>237</td>\n",
       "      <td>36</td>\n",
       "      <td>0.30</td>\n",
       "      <td>Mobile</td>\n",
       "      <td>0</td>\n",
       "      <td>1</td>\n",
       "      <td>1</td>\n",
       "    </tr>\n",
       "    <tr>\n",
       "      <th>7996</th>\n",
       "      <td>7997</td>\n",
       "      <td>Male</td>\n",
       "      <td>34</td>\n",
       "      <td>AU</td>\n",
       "      <td>Premium</td>\n",
       "      <td>61</td>\n",
       "      <td>64</td>\n",
       "      <td>0.59</td>\n",
       "      <td>Mobile</td>\n",
       "      <td>0</td>\n",
       "      <td>1</td>\n",
       "      <td>0</td>\n",
       "    </tr>\n",
       "    <tr>\n",
       "      <th>7997</th>\n",
       "      <td>7998</td>\n",
       "      <td>Female</td>\n",
       "      <td>17</td>\n",
       "      <td>US</td>\n",
       "      <td>Free</td>\n",
       "      <td>81</td>\n",
       "      <td>62</td>\n",
       "      <td>0.33</td>\n",
       "      <td>Desktop</td>\n",
       "      <td>5</td>\n",
       "      <td>0</td>\n",
       "      <td>0</td>\n",
       "    </tr>\n",
       "    <tr>\n",
       "      <th>7998</th>\n",
       "      <td>7999</td>\n",
       "      <td>Female</td>\n",
       "      <td>34</td>\n",
       "      <td>IN</td>\n",
       "      <td>Student</td>\n",
       "      <td>245</td>\n",
       "      <td>94</td>\n",
       "      <td>0.27</td>\n",
       "      <td>Desktop</td>\n",
       "      <td>0</td>\n",
       "      <td>1</td>\n",
       "      <td>0</td>\n",
       "    </tr>\n",
       "    <tr>\n",
       "      <th>7999</th>\n",
       "      <td>8000</td>\n",
       "      <td>Other</td>\n",
       "      <td>45</td>\n",
       "      <td>AU</td>\n",
       "      <td>Free</td>\n",
       "      <td>210</td>\n",
       "      <td>68</td>\n",
       "      <td>0.46</td>\n",
       "      <td>Desktop</td>\n",
       "      <td>6</td>\n",
       "      <td>0</td>\n",
       "      <td>0</td>\n",
       "    </tr>\n",
       "  </tbody>\n",
       "</table>\n",
       "<p>8000 rows × 12 columns</p>\n",
       "</div>"
      ],
      "text/plain": [
       "      user_id  gender  age country subscription_type  listening_time  \\\n",
       "0           1  Female   54      CA              Free              26   \n",
       "1           2   Other   33      DE            Family             141   \n",
       "2           3    Male   38      AU           Premium             199   \n",
       "3           4  Female   22      CA           Student              36   \n",
       "4           5   Other   29      US            Family             250   \n",
       "...       ...     ...  ...     ...               ...             ...   \n",
       "7995     7996   Other   44      DE           Student             237   \n",
       "7996     7997    Male   34      AU           Premium              61   \n",
       "7997     7998  Female   17      US              Free              81   \n",
       "7998     7999  Female   34      IN           Student             245   \n",
       "7999     8000   Other   45      AU              Free             210   \n",
       "\n",
       "      songs_played_per_day  skip_rate device_type  ads_listened_per_week  \\\n",
       "0                       23       0.20     Desktop                     31   \n",
       "1                       62       0.34         Web                      0   \n",
       "2                       38       0.04      Mobile                      0   \n",
       "3                        2       0.31      Mobile                      0   \n",
       "4                       57       0.36      Mobile                      0   \n",
       "...                    ...        ...         ...                    ...   \n",
       "7995                    36       0.30      Mobile                      0   \n",
       "7996                    64       0.59      Mobile                      0   \n",
       "7997                    62       0.33     Desktop                      5   \n",
       "7998                    94       0.27     Desktop                      0   \n",
       "7999                    68       0.46     Desktop                      6   \n",
       "\n",
       "      offline_listening  is_churned  \n",
       "0                     0           1  \n",
       "1                     1           0  \n",
       "2                     1           1  \n",
       "3                     1           0  \n",
       "4                     1           1  \n",
       "...                 ...         ...  \n",
       "7995                  1           1  \n",
       "7996                  1           0  \n",
       "7997                  0           0  \n",
       "7998                  1           0  \n",
       "7999                  0           0  \n",
       "\n",
       "[8000 rows x 12 columns]"
      ]
     },
     "execution_count": 6,
     "metadata": {},
     "output_type": "execute_result"
    }
   ],
   "source": [
    "df"
   ]
  },
  {
   "cell_type": "code",
   "execution_count": 7,
   "id": "1ea7b44a-4ac1-4d5e-9d9f-f98961260f39",
   "metadata": {},
   "outputs": [
    {
     "name": "stdout",
     "output_type": "stream",
     "text": [
      "<class 'pandas.core.frame.DataFrame'>\n",
      "RangeIndex: 8000 entries, 0 to 7999\n",
      "Data columns (total 12 columns):\n",
      " #   Column                 Non-Null Count  Dtype  \n",
      "---  ------                 --------------  -----  \n",
      " 0   user_id                8000 non-null   int64  \n",
      " 1   gender                 8000 non-null   object \n",
      " 2   age                    8000 non-null   int64  \n",
      " 3   country                8000 non-null   object \n",
      " 4   subscription_type      8000 non-null   object \n",
      " 5   listening_time         8000 non-null   int64  \n",
      " 6   songs_played_per_day   8000 non-null   int64  \n",
      " 7   skip_rate              8000 non-null   float64\n",
      " 8   device_type            8000 non-null   object \n",
      " 9   ads_listened_per_week  8000 non-null   int64  \n",
      " 10  offline_listening      8000 non-null   int64  \n",
      " 11  is_churned             8000 non-null   int64  \n",
      "dtypes: float64(1), int64(7), object(4)\n",
      "memory usage: 750.1+ KB\n"
     ]
    }
   ],
   "source": [
    "df.info()"
   ]
  },
  {
   "cell_type": "code",
   "execution_count": 8,
   "id": "d2bcf1e1-0477-470b-adef-2295f3399045",
   "metadata": {},
   "outputs": [
    {
     "data": {
      "text/plain": [
       "user_id                  0\n",
       "gender                   0\n",
       "age                      0\n",
       "country                  0\n",
       "subscription_type        0\n",
       "listening_time           0\n",
       "songs_played_per_day     0\n",
       "skip_rate                0\n",
       "device_type              0\n",
       "ads_listened_per_week    0\n",
       "offline_listening        0\n",
       "is_churned               0\n",
       "dtype: int64"
      ]
     },
     "execution_count": 8,
     "metadata": {},
     "output_type": "execute_result"
    }
   ],
   "source": [
    "df.isnull().sum()"
   ]
  },
  {
   "cell_type": "code",
   "execution_count": 9,
   "id": "856fa729-967a-4132-8f38-0f286c9761e1",
   "metadata": {},
   "outputs": [
    {
     "data": {
      "text/plain": [
       "Index(['user_id', 'gender', 'age', 'country', 'subscription_type',\n",
       "       'listening_time', 'songs_played_per_day', 'skip_rate', 'device_type',\n",
       "       'ads_listened_per_week', 'offline_listening', 'is_churned'],\n",
       "      dtype='object')"
      ]
     },
     "execution_count": 9,
     "metadata": {},
     "output_type": "execute_result"
    }
   ],
   "source": [
    "df.columns"
   ]
  },
  {
   "cell_type": "code",
   "execution_count": 10,
   "id": "20283098-5dc8-4b02-a0ce-138e3e8afd93",
   "metadata": {},
   "outputs": [],
   "source": [
    "# Separate numerical and categorical columns\n",
    "numerical_cols = ['age', 'listening_time', 'songs_played_per_day', 'skip_rate', 'ads_listened_per_week']\n",
    "categorical_cols = ['gender', 'country', 'subscription_type', 'device_type']"
   ]
  },
  {
   "cell_type": "code",
   "execution_count": 11,
   "id": "707c63d0-533b-4e64-9dc0-a53dd6611c1f",
   "metadata": {},
   "outputs": [
    {
     "data": {
      "image/png": "[encoded data removed]",
      "text/plain": [
       "<Figure size 600x400 with 1 Axes>"
      ]
     },
     "metadata": {},
     "output_type": "display_data"
    },
    {
     "data": {
      "image/png": "[encoded data removed]",
      "text/plain": [
       "<Figure size 600x400 with 1 Axes>"
      ]
     },
     "metadata": {},
     "output_type": "display_data"
    },
    {
     "data": {
      "image/png": "[encoded data removed]",
      "text/plain": [
       "<Figure size 600x400 with 1 Axes>"
      ]
     },
     "metadata": {},
     "output_type": "display_data"
    },
    {
     "data": {
      "image/png": "[encoded data removed]",
      "text/plain": [
       "<Figure size 600x400 with 1 Axes>"
      ]
     },
     "metadata": {},
     "output_type": "display_data"
    },
    {
     "data": {
      "image/png": "[encoded data removed]",
      "text/plain": [
       "<Figure size 600x400 with 1 Axes>"
      ]
     },
     "metadata": {},
     "output_type": "display_data"
    }
   ],
   "source": [
    "for col in numerical_cols: \n",
    "    plt.figure(figsize=(6,4)) \n",
    "    sns.histplot(df[col],kde=True, bins=20)"
   ]
  },
  {
   "cell_type": "code",
   "execution_count": 12,
   "id": "848bf328-281d-479b-8497-01ab07ed32ed",
   "metadata": {},
   "outputs": [
    {
     "data": {
      "text/plain": [
       "<Axes: >"
      ]
     },
     "execution_count": 12,
     "metadata": {},
     "output_type": "execute_result"
    },
    {
     "data": {
      "image/png": "[encoded data removed]",
      "text/plain": [
       "<Figure size 800x600 with 2 Axes>"
      ]
     },
     "metadata": {},
     "output_type": "display_data"
    }
   ],
   "source": [
    "plt.figure(figsize=(8,6))\n",
    "sns.heatmap(df.corr(numeric_only=True),annot=True)"
   ]
  },
  {
   "cell_type": "code",
   "execution_count": 13,
   "id": "629c8acb-4783-4d0f-8306-71db7d8f77a0",
   "metadata": {},
   "outputs": [
    {
     "data": {
      "text/plain": [
       "np.int64(0)"
      ]
     },
     "execution_count": 13,
     "metadata": {},
     "output_type": "execute_result"
    }
   ],
   "source": [
    "df.duplicated().sum()"
   ]
  },
  {
   "cell_type": "code",
   "execution_count": 14,
   "id": "48a8a1b3-97e3-4899-b59a-957bc6ce51ad",
   "metadata": {},
   "outputs": [
    {
     "data": {
      "text/plain": [
       "user_id                    int64\n",
       "gender                    object\n",
       "age                        int64\n",
       "country                   object\n",
       "subscription_type         object\n",
       "listening_time             int64\n",
       "songs_played_per_day       int64\n",
       "skip_rate                float64\n",
       "device_type               object\n",
       "ads_listened_per_week      int64\n",
       "offline_listening          int64\n",
       "is_churned                 int64\n",
       "dtype: object"
      ]
     },
     "execution_count": 14,
     "metadata": {},
     "output_type": "execute_result"
    }
   ],
   "source": [
    "df.dtypes"
   ]
  },
  {
   "cell_type": "code",
   "execution_count": 15,
   "id": "4ed765c1-db68-48a2-b43d-47d14c0dc3e4",
   "metadata": {},
   "outputs": [],
   "source": [
    "# convert objects into int "
   ]
  },
  {
   "cell_type": "code",
   "execution_count": 16,
   "id": "e760b2fa-0cd4-44e1-acdc-f487b85b07ca",
   "metadata": {},
   "outputs": [
    {
     "data": {
      "text/html": [
       "<div>\n",
       "<style scoped>\n",
       "    .dataframe tbody tr th:only-of-type {\n",
       "        vertical-align: middle;\n",
       "    }\n",
       "\n",
       "    .dataframe tbody tr th {\n",
       "        vertical-align: top;\n",
       "    }\n",
       "\n",
       "    .dataframe thead th {\n",
       "        text-align: right;\n",
       "    }\n",
       "</style>\n",
       "<table border=\"1\" class=\"dataframe\">\n",
       "  <thead>\n",
       "    <tr style=\"text-align: right;\">\n",
       "      <th></th>\n",
       "      <th>user_id</th>\n",
       "      <th>gender</th>\n",
       "      <th>age</th>\n",
       "      <th>country</th>\n",
       "      <th>subscription_type</th>\n",
       "      <th>listening_time</th>\n",
       "      <th>songs_played_per_day</th>\n",
       "      <th>skip_rate</th>\n",
       "      <th>device_type</th>\n",
       "      <th>ads_listened_per_week</th>\n",
       "      <th>offline_listening</th>\n",
       "      <th>is_churned</th>\n",
       "    </tr>\n",
       "  </thead>\n",
       "  <tbody>\n",
       "    <tr>\n",
       "      <th>0</th>\n",
       "      <td>1</td>\n",
       "      <td>Female</td>\n",
       "      <td>54</td>\n",
       "      <td>CA</td>\n",
       "      <td>Free</td>\n",
       "      <td>26</td>\n",
       "      <td>23</td>\n",
       "      <td>0.20</td>\n",
       "      <td>Desktop</td>\n",
       "      <td>31</td>\n",
       "      <td>0</td>\n",
       "      <td>1</td>\n",
       "    </tr>\n",
       "    <tr>\n",
       "      <th>1</th>\n",
       "      <td>2</td>\n",
       "      <td>Other</td>\n",
       "      <td>33</td>\n",
       "      <td>DE</td>\n",
       "      <td>Family</td>\n",
       "      <td>141</td>\n",
       "      <td>62</td>\n",
       "      <td>0.34</td>\n",
       "      <td>Web</td>\n",
       "      <td>0</td>\n",
       "      <td>1</td>\n",
       "      <td>0</td>\n",
       "    </tr>\n",
       "    <tr>\n",
       "      <th>2</th>\n",
       "      <td>3</td>\n",
       "      <td>Male</td>\n",
       "      <td>38</td>\n",
       "      <td>AU</td>\n",
       "      <td>Premium</td>\n",
       "      <td>199</td>\n",
       "      <td>38</td>\n",
       "      <td>0.04</td>\n",
       "      <td>Mobile</td>\n",
       "      <td>0</td>\n",
       "      <td>1</td>\n",
       "      <td>1</td>\n",
       "    </tr>\n",
       "    <tr>\n",
       "      <th>3</th>\n",
       "      <td>4</td>\n",
       "      <td>Female</td>\n",
       "      <td>22</td>\n",
       "      <td>CA</td>\n",
       "      <td>Student</td>\n",
       "      <td>36</td>\n",
       "      <td>2</td>\n",
       "      <td>0.31</td>\n",
       "      <td>Mobile</td>\n",
       "      <td>0</td>\n",
       "      <td>1</td>\n",
       "      <td>0</td>\n",
       "    </tr>\n",
       "    <tr>\n",
       "      <th>4</th>\n",
       "      <td>5</td>\n",
       "      <td>Other</td>\n",
       "      <td>29</td>\n",
       "      <td>US</td>\n",
       "      <td>Family</td>\n",
       "      <td>250</td>\n",
       "      <td>57</td>\n",
       "      <td>0.36</td>\n",
       "      <td>Mobile</td>\n",
       "      <td>0</td>\n",
       "      <td>1</td>\n",
       "      <td>1</td>\n",
       "    </tr>\n",
       "  </tbody>\n",
       "</table>\n",
       "</div>"
      ],
      "text/plain": [
       "   user_id  gender  age country subscription_type  listening_time  \\\n",
       "0        1  Female   54      CA              Free              26   \n",
       "1        2   Other   33      DE            Family             141   \n",
       "2        3    Male   38      AU           Premium             199   \n",
       "3        4  Female   22      CA           Student              36   \n",
       "4        5   Other   29      US            Family             250   \n",
       "\n",
       "   songs_played_per_day  skip_rate device_type  ads_listened_per_week  \\\n",
       "0                    23       0.20     Desktop                     31   \n",
       "1                    62       0.34         Web                      0   \n",
       "2                    38       0.04      Mobile                      0   \n",
       "3                     2       0.31      Mobile                      0   \n",
       "4                    57       0.36      Mobile                      0   \n",
       "\n",
       "   offline_listening  is_churned  \n",
       "0                  0           1  \n",
       "1                  1           0  \n",
       "2                  1           1  \n",
       "3                  1           0  \n",
       "4                  1           1  "
      ]
     },
     "execution_count": 16,
     "metadata": {},
     "output_type": "execute_result"
    }
   ],
   "source": [
    "df.head()"
   ]
  },
  {
   "cell_type": "code",
   "execution_count": 17,
   "id": "e6149e63-61f7-4548-9484-ae2b606c8056",
   "metadata": {},
   "outputs": [],
   "source": [
    "# applying one hot encoding \n"
   ]
  },
  {
   "cell_type": "code",
   "execution_count": 18,
   "id": "647e7047-8b69-450f-977e-3bf3ed206c51",
   "metadata": {},
   "outputs": [],
   "source": [
    "# df = pd.get_dummies(df,columns=['gender'],drop_first=True)"
   ]
  },
  {
   "cell_type": "code",
   "execution_count": 117,
   "id": "b8d2b5a4-6b6b-45e6-af98-fd944f99ec9e",
   "metadata": {},
   "outputs": [],
   "source": [
    "# df = pd.get_dummies(df,columns=['country'],drop_first=True)"
   ]
  },
  {
   "cell_type": "code",
   "execution_count": 118,
   "id": "11277e9a-48f6-4b67-a4db-010ed954840c",
   "metadata": {},
   "outputs": [],
   "source": [
    "# df = pd.get_dummies(df,columns=['subscription_type'],drop_first=True)"
   ]
  },
  {
   "cell_type": "code",
   "execution_count": 19,
   "id": "56362ab7-20c1-4aad-b75c-0cc778aa8c45",
   "metadata": {},
   "outputs": [],
   "source": [
    "# df = pd.get_dummies(df,columns=['device_type'],drop_first=True)"
   ]
  },
  {
   "cell_type": "code",
   "execution_count": 20,
   "id": "c9d1d98c-fefb-40ab-9bc6-0c85a68bd5c6",
   "metadata": {},
   "outputs": [],
   "source": [
    "# Apply one-hot encoding to categorical columns\n",
    "df = pd.get_dummies(df, columns=categorical_cols, drop_first=True)"
   ]
  },
  {
   "cell_type": "code",
   "execution_count": 21,
   "id": "5d566f4c-a82b-4299-b4fd-c31649cca3c4",
   "metadata": {},
   "outputs": [],
   "source": [
    "# Handle outliers in numerical columns using the IQR method\n",
    "for col in numerical_cols:\n",
    "    Q1 = df[col].quantile(0.25)\n",
    "    Q3 = df[col].quantile(0.75)\n",
    "    IQR = Q3 - Q1\n",
    "    lower_bound = Q1 - 1.5 * IQR\n",
    "    upper_bound = Q3 + 1.5 * IQR\n",
    "    \n",
    "    # Cap the outliers\n",
    "    df[col] = df[col].clip(lower_bound, upper_bound)"
   ]
  },
  {
   "cell_type": "code",
   "execution_count": 22,
   "id": "c7e0a7b0-9a88-41db-9ff2-8634179156eb",
   "metadata": {},
   "outputs": [
    {
     "data": {
      "text/html": [
       "<div>\n",
       "<style scoped>\n",
       "    .dataframe tbody tr th:only-of-type {\n",
       "        vertical-align: middle;\n",
       "    }\n",
       "\n",
       "    .dataframe tbody tr th {\n",
       "        vertical-align: top;\n",
       "    }\n",
       "\n",
       "    .dataframe thead th {\n",
       "        text-align: right;\n",
       "    }\n",
       "</style>\n",
       "<table border=\"1\" class=\"dataframe\">\n",
       "  <thead>\n",
       "    <tr style=\"text-align: right;\">\n",
       "      <th></th>\n",
       "      <th>user_id</th>\n",
       "      <th>age</th>\n",
       "      <th>listening_time</th>\n",
       "      <th>songs_played_per_day</th>\n",
       "      <th>skip_rate</th>\n",
       "      <th>ads_listened_per_week</th>\n",
       "      <th>offline_listening</th>\n",
       "      <th>is_churned</th>\n",
       "      <th>gender_Male</th>\n",
       "      <th>gender_Other</th>\n",
       "      <th>...</th>\n",
       "      <th>country_FR</th>\n",
       "      <th>country_IN</th>\n",
       "      <th>country_PK</th>\n",
       "      <th>country_UK</th>\n",
       "      <th>country_US</th>\n",
       "      <th>subscription_type_Free</th>\n",
       "      <th>subscription_type_Premium</th>\n",
       "      <th>subscription_type_Student</th>\n",
       "      <th>device_type_Mobile</th>\n",
       "      <th>device_type_Web</th>\n",
       "    </tr>\n",
       "  </thead>\n",
       "  <tbody>\n",
       "    <tr>\n",
       "      <th>0</th>\n",
       "      <td>1</td>\n",
       "      <td>54</td>\n",
       "      <td>26</td>\n",
       "      <td>23</td>\n",
       "      <td>0.20</td>\n",
       "      <td>12.5</td>\n",
       "      <td>0</td>\n",
       "      <td>1</td>\n",
       "      <td>False</td>\n",
       "      <td>False</td>\n",
       "      <td>...</td>\n",
       "      <td>False</td>\n",
       "      <td>False</td>\n",
       "      <td>False</td>\n",
       "      <td>False</td>\n",
       "      <td>False</td>\n",
       "      <td>True</td>\n",
       "      <td>False</td>\n",
       "      <td>False</td>\n",
       "      <td>False</td>\n",
       "      <td>False</td>\n",
       "    </tr>\n",
       "    <tr>\n",
       "      <th>1</th>\n",
       "      <td>2</td>\n",
       "      <td>33</td>\n",
       "      <td>141</td>\n",
       "      <td>62</td>\n",
       "      <td>0.34</td>\n",
       "      <td>0.0</td>\n",
       "      <td>1</td>\n",
       "      <td>0</td>\n",
       "      <td>False</td>\n",
       "      <td>True</td>\n",
       "      <td>...</td>\n",
       "      <td>False</td>\n",
       "      <td>False</td>\n",
       "      <td>False</td>\n",
       "      <td>False</td>\n",
       "      <td>False</td>\n",
       "      <td>False</td>\n",
       "      <td>False</td>\n",
       "      <td>False</td>\n",
       "      <td>False</td>\n",
       "      <td>True</td>\n",
       "    </tr>\n",
       "    <tr>\n",
       "      <th>2</th>\n",
       "      <td>3</td>\n",
       "      <td>38</td>\n",
       "      <td>199</td>\n",
       "      <td>38</td>\n",
       "      <td>0.04</td>\n",
       "      <td>0.0</td>\n",
       "      <td>1</td>\n",
       "      <td>1</td>\n",
       "      <td>True</td>\n",
       "      <td>False</td>\n",
       "      <td>...</td>\n",
       "      <td>False</td>\n",
       "      <td>False</td>\n",
       "      <td>False</td>\n",
       "      <td>False</td>\n",
       "      <td>False</td>\n",
       "      <td>False</td>\n",
       "      <td>True</td>\n",
       "      <td>False</td>\n",
       "      <td>True</td>\n",
       "      <td>False</td>\n",
       "    </tr>\n",
       "    <tr>\n",
       "      <th>3</th>\n",
       "      <td>4</td>\n",
       "      <td>22</td>\n",
       "      <td>36</td>\n",
       "      <td>2</td>\n",
       "      <td>0.31</td>\n",
       "      <td>0.0</td>\n",
       "      <td>1</td>\n",
       "      <td>0</td>\n",
       "      <td>False</td>\n",
       "      <td>False</td>\n",
       "      <td>...</td>\n",
       "      <td>False</td>\n",
       "      <td>False</td>\n",
       "      <td>False</td>\n",
       "      <td>False</td>\n",
       "      <td>False</td>\n",
       "      <td>False</td>\n",
       "      <td>False</td>\n",
       "      <td>True</td>\n",
       "      <td>True</td>\n",
       "      <td>False</td>\n",
       "    </tr>\n",
       "    <tr>\n",
       "      <th>4</th>\n",
       "      <td>5</td>\n",
       "      <td>29</td>\n",
       "      <td>250</td>\n",
       "      <td>57</td>\n",
       "      <td>0.36</td>\n",
       "      <td>0.0</td>\n",
       "      <td>1</td>\n",
       "      <td>1</td>\n",
       "      <td>False</td>\n",
       "      <td>True</td>\n",
       "      <td>...</td>\n",
       "      <td>False</td>\n",
       "      <td>False</td>\n",
       "      <td>False</td>\n",
       "      <td>False</td>\n",
       "      <td>True</td>\n",
       "      <td>False</td>\n",
       "      <td>False</td>\n",
       "      <td>False</td>\n",
       "      <td>True</td>\n",
       "      <td>False</td>\n",
       "    </tr>\n",
       "  </tbody>\n",
       "</table>\n",
       "<p>5 rows × 22 columns</p>\n",
       "</div>"
      ],
      "text/plain": [
       "   user_id  age  listening_time  songs_played_per_day  skip_rate  \\\n",
       "0        1   54              26                    23       0.20   \n",
       "1        2   33             141                    62       0.34   \n",
       "2        3   38             199                    38       0.04   \n",
       "3        4   22              36                     2       0.31   \n",
       "4        5   29             250                    57       0.36   \n",
       "\n",
       "   ads_listened_per_week  offline_listening  is_churned  gender_Male  \\\n",
       "0                   12.5                  0           1        False   \n",
       "1                    0.0                  1           0        False   \n",
       "2                    0.0                  1           1         True   \n",
       "3                    0.0                  1           0        False   \n",
       "4                    0.0                  1           1        False   \n",
       "\n",
       "   gender_Other  ...  country_FR  country_IN  country_PK  country_UK  \\\n",
       "0         False  ...       False       False       False       False   \n",
       "1          True  ...       False       False       False       False   \n",
       "2         False  ...       False       False       False       False   \n",
       "3         False  ...       False       False       False       False   \n",
       "4          True  ...       False       False       False       False   \n",
       "\n",
       "   country_US  subscription_type_Free  subscription_type_Premium  \\\n",
       "0       False                    True                      False   \n",
       "1       False                   False                      False   \n",
       "2       False                   False                       True   \n",
       "3       False                   False                      False   \n",
       "4        True                   False                      False   \n",
       "\n",
       "   subscription_type_Student  device_type_Mobile  device_type_Web  \n",
       "0                      False               False            False  \n",
       "1                      False               False             True  \n",
       "2                      False                True            False  \n",
       "3                       True                True            False  \n",
       "4                      False                True            False  \n",
       "\n",
       "[5 rows x 22 columns]"
      ]
     },
     "execution_count": 22,
     "metadata": {},
     "output_type": "execute_result"
    }
   ],
   "source": [
    "df.head()"
   ]
  },
  {
   "cell_type": "code",
   "execution_count": 49,
   "id": "201cf5ac-25ff-482b-8e70-9d0371400ea9",
   "metadata": {},
   "outputs": [
    {
     "name": "stdout",
     "output_type": "stream",
     "text": [
      "<class 'pandas.core.frame.DataFrame'>\n",
      "RangeIndex: 8000 entries, 0 to 7999\n",
      "Data columns (total 22 columns):\n",
      " #   Column                     Non-Null Count  Dtype  \n",
      "---  ------                     --------------  -----  \n",
      " 0   user_id                    8000 non-null   int64  \n",
      " 1   age                        8000 non-null   int64  \n",
      " 2   listening_time             8000 non-null   int64  \n",
      " 3   songs_played_per_day       8000 non-null   int64  \n",
      " 4   skip_rate                  8000 non-null   float64\n",
      " 5   ads_listened_per_week      8000 non-null   int64  \n",
      " 6   offline_listening          8000 non-null   int64  \n",
      " 7   is_churned                 8000 non-null   int64  \n",
      " 8   gender_Male                8000 non-null   bool   \n",
      " 9   gender_Other               8000 non-null   bool   \n",
      " 10  country_CA                 8000 non-null   bool   \n",
      " 11  country_DE                 8000 non-null   bool   \n",
      " 12  country_FR                 8000 non-null   bool   \n",
      " 13  country_IN                 8000 non-null   bool   \n",
      " 14  country_PK                 8000 non-null   bool   \n",
      " 15  country_UK                 8000 non-null   bool   \n",
      " 16  country_US                 8000 non-null   bool   \n",
      " 17  subscription_type_Free     8000 non-null   bool   \n",
      " 18  subscription_type_Premium  8000 non-null   bool   \n",
      " 19  subscription_type_Student  8000 non-null   bool   \n",
      " 20  device_type_Mobile         8000 non-null   bool   \n",
      " 21  device_type_Web            8000 non-null   bool   \n",
      "dtypes: bool(14), float64(1), int64(7)\n",
      "memory usage: 609.5 KB\n"
     ]
    }
   ],
   "source": [
    "df.info()"
   ]
  },
  {
   "cell_type": "code",
   "execution_count": 23,
   "id": "fd4c3845-98c5-4262-8409-ab829f70fe1f",
   "metadata": {},
   "outputs": [],
   "source": [
    "from sklearn.preprocessing import StandardScaler\n",
    "\n",
    "# Initialize the StandardScaler\n",
    "scaler = StandardScaler()\n",
    "\n",
    "# Scale the numerical columns\n",
    "df[numerical_cols] = scaler.fit_transform(df[numerical_cols])"
   ]
  },
  {
   "cell_type": "code",
   "execution_count": 53,
   "id": "e82d66a1-8069-4490-99d3-50e6505d5c0b",
   "metadata": {},
   "outputs": [
    {
     "data": {
      "text/plain": [
       "Index(['user_id', 'age', 'listening_time', 'songs_played_per_day', 'skip_rate',\n",
       "       'ads_listened_per_week', 'offline_listening', 'is_churned',\n",
       "       'gender_Male', 'gender_Other', 'country_CA', 'country_DE', 'country_FR',\n",
       "       'country_IN', 'country_PK', 'country_UK', 'country_US',\n",
       "       'subscription_type_Free', 'subscription_type_Premium',\n",
       "       'subscription_type_Student', 'device_type_Mobile', 'device_type_Web'],\n",
       "      dtype='object')"
      ]
     },
     "execution_count": 53,
     "metadata": {},
     "output_type": "execute_result"
    }
   ],
   "source": [
    "df.columns"
   ]
  },
  {
   "cell_type": "code",
   "execution_count": 24,
   "id": "21915b44-5642-4de0-a5fe-22033ef0ed5f",
   "metadata": {},
   "outputs": [],
   "source": [
    "cols = ['age', 'listening_time', 'songs_played_per_day', \n",
    "       'ads_listened_per_week']"
   ]
  },
  {
   "cell_type": "code",
   "execution_count": 25,
   "id": "4d790d32-ae4f-4e3d-9792-5f04618c4114",
   "metadata": {},
   "outputs": [
    {
     "data": {
      "text/plain": [
       "array([-5.76826835e-01,  2.29702409e-01, -1.49857454e+00,  5.68747140e-02,\n",
       "        3.44920872e-01,  9.21013189e-01,  4.60139336e-01, -1.09530992e+00,\n",
       "       -5.83437494e-02,  1.49710551e+00,  1.72754243e+00,  8.05794726e-01,\n",
       "       -2.31171444e-01, -4.03999140e-01,  6.32967031e-01,  2.87311641e-01,\n",
       "        8.63403958e-01, -1.15291915e+00,  6.90576263e-01,  1.66993320e+00,\n",
       "        1.32427781e+00,  1.72093177e-01, -7.34517704e-04, -4.61608371e-01,\n",
       "        5.17748567e-01, -7.49654530e-01,  7.48185494e-01, -6.92045298e-01,\n",
       "       -1.38335608e+00,  1.15145012e+00,  1.38188704e+00,  1.20905935e+00,\n",
       "        5.75357799e-01,  1.03623165e+00,  1.61232397e+00, -1.26813761e+00,\n",
       "       -1.72901147e+00,  1.14483946e-01,  1.09384088e+00, -9.22482225e-01,\n",
       "       -5.19217603e-01, -1.44096531e+00, -6.34436066e-01,  9.78622421e-01,\n",
       "       -3.46389908e-01, -1.55618377e+00,  4.02530104e-01, -8.64872993e-01,\n",
       "       -2.88780676e-01, -1.32574685e+00, -1.61379300e+00, -1.03770069e+00,\n",
       "       -1.73562213e-01, -9.80091456e-01, -8.07263761e-01,  1.26666858e+00,\n",
       "       -1.21052838e+00, -1.15952981e-01, -1.67140224e+00,  1.43949627e+00,\n",
       "        1.55471474e+00])"
      ]
     },
     "execution_count": 25,
     "metadata": {},
     "output_type": "execute_result"
    }
   ],
   "source": [
    "df['skip_rate'].unique()"
   ]
  },
  {
   "cell_type": "code",
   "execution_count": 26,
   "id": "47ad62c7-063e-42f5-9586-9f94543d609c",
   "metadata": {},
   "outputs": [
    {
     "data": {
      "text/html": [
       "<div>\n",
       "<style scoped>\n",
       "    .dataframe tbody tr th:only-of-type {\n",
       "        vertical-align: middle;\n",
       "    }\n",
       "\n",
       "    .dataframe tbody tr th {\n",
       "        vertical-align: top;\n",
       "    }\n",
       "\n",
       "    .dataframe thead th {\n",
       "        text-align: right;\n",
       "    }\n",
       "</style>\n",
       "<table border=\"1\" class=\"dataframe\">\n",
       "  <thead>\n",
       "    <tr style=\"text-align: right;\">\n",
       "      <th></th>\n",
       "      <th>user_id</th>\n",
       "      <th>age</th>\n",
       "      <th>listening_time</th>\n",
       "      <th>songs_played_per_day</th>\n",
       "      <th>skip_rate</th>\n",
       "      <th>ads_listened_per_week</th>\n",
       "      <th>offline_listening</th>\n",
       "      <th>is_churned</th>\n",
       "      <th>gender_Male</th>\n",
       "      <th>gender_Other</th>\n",
       "      <th>...</th>\n",
       "      <th>country_FR</th>\n",
       "      <th>country_IN</th>\n",
       "      <th>country_PK</th>\n",
       "      <th>country_UK</th>\n",
       "      <th>country_US</th>\n",
       "      <th>subscription_type_Free</th>\n",
       "      <th>subscription_type_Premium</th>\n",
       "      <th>subscription_type_Student</th>\n",
       "      <th>device_type_Mobile</th>\n",
       "      <th>device_type_Web</th>\n",
       "    </tr>\n",
       "  </thead>\n",
       "  <tbody>\n",
       "    <tr>\n",
       "      <th>0</th>\n",
       "      <td>1</td>\n",
       "      <td>1.282452</td>\n",
       "      <td>-1.524434</td>\n",
       "      <td>-0.953574</td>\n",
       "      <td>-0.576827</td>\n",
       "      <td>1.821693</td>\n",
       "      <td>0</td>\n",
       "      <td>1</td>\n",
       "      <td>False</td>\n",
       "      <td>False</td>\n",
       "      <td>...</td>\n",
       "      <td>False</td>\n",
       "      <td>False</td>\n",
       "      <td>False</td>\n",
       "      <td>False</td>\n",
       "      <td>False</td>\n",
       "      <td>True</td>\n",
       "      <td>False</td>\n",
       "      <td>False</td>\n",
       "      <td>False</td>\n",
       "      <td>False</td>\n",
       "    </tr>\n",
       "    <tr>\n",
       "      <th>1</th>\n",
       "      <td>2</td>\n",
       "      <td>-0.365956</td>\n",
       "      <td>-0.155555</td>\n",
       "      <td>0.417349</td>\n",
       "      <td>0.229702</td>\n",
       "      <td>-0.572735</td>\n",
       "      <td>1</td>\n",
       "      <td>0</td>\n",
       "      <td>False</td>\n",
       "      <td>True</td>\n",
       "      <td>...</td>\n",
       "      <td>False</td>\n",
       "      <td>False</td>\n",
       "      <td>False</td>\n",
       "      <td>False</td>\n",
       "      <td>False</td>\n",
       "      <td>False</td>\n",
       "      <td>False</td>\n",
       "      <td>False</td>\n",
       "      <td>False</td>\n",
       "      <td>True</td>\n",
       "    </tr>\n",
       "    <tr>\n",
       "      <th>2</th>\n",
       "      <td>3</td>\n",
       "      <td>0.026522</td>\n",
       "      <td>0.534836</td>\n",
       "      <td>-0.426296</td>\n",
       "      <td>-1.498575</td>\n",
       "      <td>-0.572735</td>\n",
       "      <td>1</td>\n",
       "      <td>1</td>\n",
       "      <td>True</td>\n",
       "      <td>False</td>\n",
       "      <td>...</td>\n",
       "      <td>False</td>\n",
       "      <td>False</td>\n",
       "      <td>False</td>\n",
       "      <td>False</td>\n",
       "      <td>False</td>\n",
       "      <td>False</td>\n",
       "      <td>True</td>\n",
       "      <td>False</td>\n",
       "      <td>True</td>\n",
       "      <td>False</td>\n",
       "    </tr>\n",
       "    <tr>\n",
       "      <th>3</th>\n",
       "      <td>4</td>\n",
       "      <td>-1.229408</td>\n",
       "      <td>-1.405401</td>\n",
       "      <td>-1.691763</td>\n",
       "      <td>0.056875</td>\n",
       "      <td>-0.572735</td>\n",
       "      <td>1</td>\n",
       "      <td>0</td>\n",
       "      <td>False</td>\n",
       "      <td>False</td>\n",
       "      <td>...</td>\n",
       "      <td>False</td>\n",
       "      <td>False</td>\n",
       "      <td>False</td>\n",
       "      <td>False</td>\n",
       "      <td>False</td>\n",
       "      <td>False</td>\n",
       "      <td>False</td>\n",
       "      <td>True</td>\n",
       "      <td>True</td>\n",
       "      <td>False</td>\n",
       "    </tr>\n",
       "    <tr>\n",
       "      <th>4</th>\n",
       "      <td>5</td>\n",
       "      <td>-0.679939</td>\n",
       "      <td>1.141904</td>\n",
       "      <td>0.241590</td>\n",
       "      <td>0.344921</td>\n",
       "      <td>-0.572735</td>\n",
       "      <td>1</td>\n",
       "      <td>1</td>\n",
       "      <td>False</td>\n",
       "      <td>True</td>\n",
       "      <td>...</td>\n",
       "      <td>False</td>\n",
       "      <td>False</td>\n",
       "      <td>False</td>\n",
       "      <td>False</td>\n",
       "      <td>True</td>\n",
       "      <td>False</td>\n",
       "      <td>False</td>\n",
       "      <td>False</td>\n",
       "      <td>True</td>\n",
       "      <td>False</td>\n",
       "    </tr>\n",
       "  </tbody>\n",
       "</table>\n",
       "<p>5 rows × 22 columns</p>\n",
       "</div>"
      ],
      "text/plain": [
       "   user_id       age  listening_time  songs_played_per_day  skip_rate  \\\n",
       "0        1  1.282452       -1.524434             -0.953574  -0.576827   \n",
       "1        2 -0.365956       -0.155555              0.417349   0.229702   \n",
       "2        3  0.026522        0.534836             -0.426296  -1.498575   \n",
       "3        4 -1.229408       -1.405401             -1.691763   0.056875   \n",
       "4        5 -0.679939        1.141904              0.241590   0.344921   \n",
       "\n",
       "   ads_listened_per_week  offline_listening  is_churned  gender_Male  \\\n",
       "0               1.821693                  0           1        False   \n",
       "1              -0.572735                  1           0        False   \n",
       "2              -0.572735                  1           1         True   \n",
       "3              -0.572735                  1           0        False   \n",
       "4              -0.572735                  1           1        False   \n",
       "\n",
       "   gender_Other  ...  country_FR  country_IN  country_PK  country_UK  \\\n",
       "0         False  ...       False       False       False       False   \n",
       "1          True  ...       False       False       False       False   \n",
       "2         False  ...       False       False       False       False   \n",
       "3         False  ...       False       False       False       False   \n",
       "4          True  ...       False       False       False       False   \n",
       "\n",
       "   country_US  subscription_type_Free  subscription_type_Premium  \\\n",
       "0       False                    True                      False   \n",
       "1       False                   False                      False   \n",
       "2       False                   False                       True   \n",
       "3       False                   False                      False   \n",
       "4        True                   False                      False   \n",
       "\n",
       "   subscription_type_Student  device_type_Mobile  device_type_Web  \n",
       "0                      False               False            False  \n",
       "1                      False               False             True  \n",
       "2                      False                True            False  \n",
       "3                       True                True            False  \n",
       "4                      False                True            False  \n",
       "\n",
       "[5 rows x 22 columns]"
      ]
     },
     "execution_count": 26,
     "metadata": {},
     "output_type": "execute_result"
    }
   ],
   "source": [
    "df.head()"
   ]
  },
  {
   "cell_type": "code",
   "execution_count": null,
   "id": "9b13a94d-d48c-4135-b3a0-645443b48ff6",
   "metadata": {},
   "outputs": [],
   "source": [
    "X = df.drop(\"is_churned\",axis=1) \n",
    "y= df['is_churned']"
   ]
  },
  {
   "cell_type": "code",
   "execution_count": null,
   "id": "eaf2eaed-8e5b-41e6-9a73-b23bbd6c7f3d",
   "metadata": {},
   "outputs": [],
   "source": [
    "X_train, X_test, y_train, y_test = train_test_split( X, y, test_size=0.20, random_state=42)"
   ]
  },
  {
   "cell_type": "code",
   "execution_count": null,
   "id": "3f8286b5-20f9-4692-98c2-a0dc20156861",
   "metadata": {},
   "outputs": [],
   "source": [
    "\n",
    "from sklearn.preprocessing import StandardScaler\n",
    "from sklearn.metrics import accuracy_score,f1_score, classification_report\n",
    "from sklearn.linear_model import LogisticRegression\n",
    "from sklearn.naive_bayes import GaussianNB\n",
    "from sklearn.tree import DecisionTreeClassifier\n",
    "from sklearn.svm import SVC\n",
    "from sklearn.neighbors import KNeighborsClassifier"
   ]
  },
  {
   "cell_type": "code",
   "execution_count": null,
   "id": "95f44cdf-0dca-434a-bed9-c1b42e1916dd",
   "metadata": {},
   "outputs": [],
   "source": [
    "X_train_scaled = scaler.fit_transform(X_train)\n",
    "X_test_scaled = scaler.fit_transform(X_test)"
   ]
  },
  {
   "cell_type": "code",
   "execution_count": null,
   "id": "3d4bc84f-3d40-4f79-ac46-f7cad5d86da3",
   "metadata": {},
   "outputs": [],
   "source": [
    "models = {\n",
    "    \"logistic Regression\": LogisticRegression(),\n",
    "    \"KNN\": KNeighborsClassifier(), \n",
    "    \"Naive Bayes\": GaussianNB(), \n",
    "    \"Decision Tree\" : DecisionTreeClassifier() ,\n",
    "    \"SVM (RBF Kernel)\": SVC(probability=True)\n",
    "}"
   ]
  },
  {
   "cell_type": "code",
   "execution_count": null,
   "id": "fc91d709-cacc-4ac9-ad59-68465f6f0a7e",
   "metadata": {},
   "outputs": [],
   "source": [
    "result=[]"
   ]
  },
  {
   "cell_type": "code",
   "execution_count": null,
   "id": "3070546f-deab-4f58-8203-8e619fc8af54",
   "metadata": {},
   "outputs": [],
   "source": [
    "for name , model in models.items():\n",
    "    model.fit(X_train_scaled,y_train)\n",
    "    y_pred = model.predict(X_test_scaled)\n",
    "    acc = accuracy_score(y_test,y_pred)\n",
    "    f1 = f1_score(y_test,y_pred)\n",
    "    result.append({\n",
    "        'model': name,\n",
    "        'Accuracy': round(acc,4), \n",
    "        'f1 score': round(f1, 4)\n",
    "    })"
   ]
  },
  {
   "cell_type": "code",
   "execution_count": null,
   "id": "35865a73-08bc-4e21-ae61-62829a1bedb7",
   "metadata": {},
   "outputs": [],
   "source": [
    "result"
   ]
  },
  {
   "cell_type": "code",
   "execution_count": 39,
   "id": "65aeca08-85e4-4763-ab95-0f1b9ab38a43",
   "metadata": {},
   "outputs": [],
   "source": [
    "from sklearn.model_selection import cross_val_score "
   ]
  },
  {
   "cell_type": "code",
   "execution_count": 48,
   "id": "8493ca3d-96f4-4594-b909-e6b4ab11bd5a",
   "metadata": {},
   "outputs": [],
   "source": [
    "scores = cross_val_score(models[\"logistic Regression\"], X , y , cv=5, scoring='accuracy') "
   ]
  },
  {
   "cell_type": "code",
   "execution_count": 50,
   "id": "561a3e53-fb19-4a1b-b9d3-a12bca9c9703",
   "metadata": {},
   "outputs": [
    {
     "data": {
      "text/plain": [
       "array([0.740625, 0.74125 , 0.74125 , 0.74125 , 0.74125 ])"
      ]
     },
     "execution_count": 50,
     "metadata": {},
     "output_type": "execute_result"
    }
   ],
   "source": [
    "scores"
   ]
  },
  {
   "cell_type": "code",
   "execution_count": 51,
   "id": "d1ba1477-657b-4d54-8b6f-7c87ca6a83db",
   "metadata": {},
   "outputs": [
    {
     "name": "stdout",
     "output_type": "stream",
     "text": [
      "0.741125\n"
     ]
    }
   ],
   "source": [
    "print(scores.mean())"
   ]
  },
  {
   "cell_type": "code",
   "execution_count": 52,
   "id": "9e4d7ddd-158c-461b-8556-9b84a9ebfb9e",
   "metadata": {},
   "outputs": [],
   "source": [
    "# applying Grid Search CV "
   ]
  },
  {
   "cell_type": "code",
   "execution_count": null,
   "id": "ecec111c-2173-4acf-9281-7b0d5c301682",
   "metadata": {},
   "outputs": [],
   "source": [
    "from sklearn.model_selection import GridSearchCV"
   ]
  },
  {
   "cell_type": "code",
   "execution_count": null,
   "id": "5ba225c7-e428-4703-8c75-523c998cfadd",
   "metadata": {},
   "outputs": [],
   "source": [
    "classifier = GridSearchCV(models[\"SVM (RBF Kernel)\"], \n",
    "                         {\n",
    "                             'C':[1,10,20,30], \n",
    "                             'kernel':['rbf','linear'],\n",
    "                         },cv=5 , return_train_score=False)"
   ]
  },
  {
   "cell_type": "code",
   "execution_count": null,
   "id": "373ed120-5151-49cf-bef6-1ed57f4f717f",
   "metadata": {},
   "outputs": [],
   "source": [
    "classifier.fit(X,y)"
   ]
  },
  {
   "cell_type": "code",
   "execution_count": null,
   "id": "a016d1b6-63f3-4572-bfa0-209e6f6cf52f",
   "metadata": {},
   "outputs": [],
   "source": []
  }
 ],
 "metadata": {
  "kernelspec": {
   "display_name": "Python [conda env:base] *",
   "language": "python",
   "name": "conda-base-py"
  },
  "language_info": {
   "codemirror_mode": {
    "name": "ipython",
    "version": 3
   },
   "file_extension": ".py",
   "mimetype": "text/x-python",
   "name": "python",
   "nbconvert_exporter": "python",
   "pygments_lexer": "ipython3",
   "version": "3.13.5"
  }
 },
 "nbformat": 4,
 "nbformat_minor": 5
}
